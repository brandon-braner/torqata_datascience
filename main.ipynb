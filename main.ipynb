{
 "cells": [],
 "metadata": {
  "kernelspec": {
   "display_name": "Python 3.10.0 64-bit ('poetry-example-3PTWl11k-py3.10': poetry)",
   "language": "python",
   "name": "python3"
  },
  "language_info": {
   "codemirror_mode": {
    "name": "ipython",
    "version": 3
   },
   "file_extension": ".py",
   "mimetype": "text/x-python",
   "name": "python",
   "nbconvert_exporter": "python",
   "pygments_lexer": "ipython3",
   "version": "3.10.4"
  },
  "vscode": {
   "interpreter": {
    "hash": "1f38d49fcc4df4431b1f4c1d37384d113c7f8139afea6e916d52bdd144d0614e"
   }
  }
 },
 "nbformat": 4,
 "nbformat_minor": 2
}
